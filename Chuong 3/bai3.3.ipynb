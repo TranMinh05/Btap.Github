{
 "cells": [
  {
   "cell_type": "code",
   "execution_count": null,
   "metadata": {
    "vscode": {
     "languageId": "plaintext"
    }
   },
   "outputs": [],
   "source": [
    "{\n",
    " \"cells\": [\n",
    "  {\n",
    "   \"cell_type\": \"code\",\n",
    "   \"execution_count\": 1,\n",
    "   \"metadata\": {},\n",
    "   \"outputs\": [\n",
    "    {\n",
    "     \"name\": \"stdout\",\n",
    "     \"output_type\": \"stream\",\n",
    "     \"text\": [\n",
    "      \"[2 2 4 4]\\n\",\n",
    "      \"[1 3 5 6]\\n\",\n",
    "      \"[ 6  9 10  8  6]\\n\"\n",
    "     ]\n",
    "    }\n",
    "   ],\n",
    "   \"source\": [\n",
    "    \"import numpy as np\\n\",\n",
    "    \"arr_a =np.array ([1,2,3,2,3,4,3,4,5,6])\\n\",\n",
    "    \"arr_b =np.array ([7,2,10,2,7,4,9,4,9,8])\\n\",\n",
    "    \"#1\\n\",\n",
    "    \"a=[i for i in arr_a if i in arr_b]\\n\",\n",
    "    \"arr_c = np.array(a)\\n\",\n",
    "    \"print(arr_c)\\n\",\n",
    "    \"#2\\n\",\n",
    "    \"arr_d = np.array(list(set(arr_a)- set(arr_b)))\\n\",\n",
    "    \"print(arr_d)\\n\",\n",
    "    \"#3\\n\",\n",
    "    \"arr_e = np.array([2, 6, 1, 9, 10, 3, 27, 8, 6, 25, 16])\\n\",\n",
    "    \"arr_f = np.array([i for i in arr_e if i>=5 and i<=10])\\n\",\n",
    "    \"print(arr_f)\"\n",
    "   ]\n",
    "  }\n",
    " ],\n",
    " \"metadata\": {\n",
    "  \"kernelspec\": {\n",
    "   \"display_name\": \"Python 3\",\n",
    "   \"language\": \"python\",\n",
    "   \"name\": \"python3\"\n",
    "  },\n",
    "  \"language_info\": {\n",
    "   \"codemirror_mode\": {\n",
    "    \"name\": \"ipython\",\n",
    "    \"version\": 3\n",
    "   },\n",
    "   \"file_extension\": \".py\",\n",
    "   \"mimetype\": \"text/x-python\",\n",
    "   \"name\": \"python\",\n",
    "   \"nbconvert_exporter\": \"python\",\n",
    "   \"pygments_lexer\": \"ipython3\",\n",
    "   \"version\": \"3.6.8\"\n",
    "  }\n",
    " },\n",
    " \"nbformat\": 4,\n",
    " \"nbformat_minor\": 2\n",
    "}"
   ]
  }
 ],
 "metadata": {
  "language_info": {
   "name": "python"
  }
 },
 "nbformat": 4,
 "nbformat_minor": 2
}
